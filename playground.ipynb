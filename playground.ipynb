{
 "cells": [
  {
   "cell_type": "markdown",
   "metadata": {},
   "source": [
    "# Playground"
   ]
  },
  {
   "cell_type": "code",
   "execution_count": 2,
   "metadata": {},
   "outputs": [
    {
     "name": "stdout",
     "output_type": "stream",
     "text": [
      "[[0.039 0.091 0.826 0.029 0.448 0.069 0.723 0.91  0.501 0.266]\n",
      " [0.524 0.41  0.481 0.664 0.698 0.439 0.19  0.565 0.493 0.153]\n",
      " [0.927 0.092 0.857 0.82  0.828 0.478 0.323 0.785 0.607 0.761]\n",
      " [0.015 0.472 0.149 0.604 0.128 0.966 0.699 0.273 0.327 0.589]\n",
      " [0.708 0.148 0.454 0.936 0.294 0.408 0.902 0.593 0.398 0.514]\n",
      " [0.223 0.942 0.303 0.773 0.207 0.136 0.816 0.854 0.95  0.687]\n",
      " [0.458 0.663 0.729 0.036 0.362 0.593 0.872 0.531 0.383 0.641]\n",
      " [0.713 0.969 0.996 0.038 0.956 0.142 0.073 0.324 0.363 0.506]\n",
      " [0.632 0.175 0.657 0.525 0.068 0.581 0.27  0.205 0.684 0.325]\n",
      " [0.16  0.748 0.07  0.246 0.688 0.856 0.944 0.56  0.029 0.026]]\n",
      "[[1 1 0 1 0 1 0 0 0 0]\n",
      " [0 0 0 0 0 0 0 0 0 0]\n",
      " [0 1 0 0 0 0 0 0 0 0]\n",
      " [1 0 0 0 0 0 0 0 0 0]\n",
      " [0 0 0 0 0 0 0 0 0 0]\n",
      " [0 0 0 0 0 0 0 0 0 0]\n",
      " [0 0 0 1 0 0 0 0 0 0]\n",
      " [0 0 0 1 0 0 1 0 0 0]\n",
      " [0 0 0 0 1 0 0 0 0 0]\n",
      " [0 0 1 0 0 0 0 0 1 1]]\n"
     ]
    }
   ],
   "source": [
    "import  numpy as np\n",
    "import networkx as nx\n",
    "\n",
    "np.set_printoptions(precision=3)\n",
    "n=10\n",
    "p=0.1\n",
    "\n",
    "A_prob = np.random.rand(n,n)\n",
    "print(A_prob)\n",
    "\n",
    "A = (A_prob < p).astype('int')\n",
    "print(A)"
   ]
  },
  {
   "cell_type": "code",
   "execution_count": 8,
   "metadata": {},
   "outputs": [
    {
     "data": {
      "image/png": "[encoded data removed]",
      "text/plain": [
       "<Figure size 640x480 with 1 Axes>"
      ]
     },
     "metadata": {},
     "output_type": "display_data"
    }
   ],
   "source": [
    "G = nx.DiGraph(np.array(A))\n",
    "# G = nx.from_numpy_array(A)\n",
    "nx.draw(G)"
   ]
  },
  {
   "cell_type": "markdown",
   "metadata": {},
   "source": [
    "# Erdos-Reyni-Network"
   ]
  },
  {
   "cell_type": "code",
   "execution_count": 17,
   "metadata": {},
   "outputs": [
    {
     "name": "stdout",
     "output_type": "stream",
     "text": [
      "Erdos-Renyi graph generated successfully with 10000 nodes and edge probability 0.1 saved to erdos_reyni_network.csv!\n"
     ]
    }
   ],
   "source": [
    "import csv\n",
    "\n",
    "# Function for generating a CSV file containing an Erdos-Renyi network\n",
    "def erdos_reyni_csv_generator(num_nodes, probability, ERY_filename):\n",
    "    G = nx.erdos_renyi_graph(num_nodes, probability)\n",
    "    with open(ERY_filename, 'w', newline='') as file:\n",
    "        writer = csv.writer(file)\n",
    "        for edge in G.edges:\n",
    "            # file.write(f\"{edge[0]},{edge[1]}\\n\")\n",
    "            writer.writerow(edge)\n",
    "\n",
    "#Example usage: Generate an Erdos-Renyi graph with 10,000 nodes and edge probability 0.1 and save it to erdos_reyni_network.csv\n",
    "num_nodes = 10_000\n",
    "probability = 0.1\n",
    "ERY_filename = 'erdos_reyni_network.csv'\n",
    "\n",
    "erdos_reyni_csv_generator(num_nodes, probability, ERY_filename)\n",
    "print(f\"Erdos-Renyi graph generated successfully with {num_nodes} nodes and edge probability {probability} saved to {ERY_filename}!\")"
   ]
  },
  {
   "cell_type": "code",
   "execution_count": 14,
   "metadata": {},
   "outputs": [],
   "source": [
    "import random\n",
    "\n",
    "# Reading the above network generated file \n",
    "def load_graph_from_csv(filename):\n",
    "    G = nx.Graph()\n",
    "    with open(filename, 'r') as file:\n",
    "        reader = csv.reader(file)\n",
    "        for row in reader:\n",
    "            node1, node2 = row\n",
    "            G.add_edge(node1, node2)\n",
    "    return G\n",
    "\n",
    "# A function to simulate the infection process\n",
    "def simulate_infection(graph, p, inital_infected):\n",
    "    infected = set(inital_infected)\n",
    "    rounds = 0\n",
    "    while len(infected) < len(graph.nodes):\n",
    "        new_infected = set()\n",
    "        for node in infected:\n",
    "            neighbors = list(graph.neighbors(node))\n",
    "            random.shuffle(neighbors)\n",
    "            for neighbor in neighbors:\n",
    "                if random.random() < p:\n",
    "                    new_infected.add(neighbor)\n",
    "        \n",
    "        infected.update(new_infected)\n",
    "        rounds += 1\n",
    "    return rounds"
   ]
  },
  {
   "cell_type": "code",
   "execution_count": 18,
   "metadata": {},
   "outputs": [
    {
     "name": "stdout",
     "output_type": "stream",
     "text": [
      "Average time taken to infect all nodes: 2.0\n"
     ]
    }
   ],
   "source": [
    "# Main function to run the simulation\n",
    "def main():\n",
    "    filename = input(\"Enter the filename of the CSV file for the graph: \") # first input\n",
    "    p = float(input(\"Enter the probability value (p): \"))  # second input\n",
    "    initial_infected = input(\"Enter the initial infected node(s) separated by commas: \").split(',') # third input\n",
    "\n",
    "    graph = load_graph_from_csv(filename)\n",
    "\n",
    "    num_simulations = 10\n",
    "    total_time = 0\n",
    "    for _ in range(num_simulations):\n",
    "        time_taken = simulate_infection(graph, p, initial_infected)\n",
    "        total_time += time_taken\n",
    "\n",
    "    average_time = total_time / num_simulations\n",
    "    print(\"Average time taken to infect all nodes:\", average_time)\n",
    "\n",
    "if __name__ == \"__main__\":\n",
    "    main()"
   ]
  }
 ],
 "metadata": {
  "kernelspec": {
   "display_name": "Python 3",
   "language": "python",
   "name": "python3"
  },
  "language_info": {
   "codemirror_mode": {
    "name": "ipython",
    "version": 3
   },
   "file_extension": ".py",
   "mimetype": "text/x-python",
   "name": "python",
   "nbconvert_exporter": "python",
   "pygments_lexer": "ipython3",
   "version": "3.11.4"
  }
 },
 "nbformat": 4,
 "nbformat_minor": 2
}
